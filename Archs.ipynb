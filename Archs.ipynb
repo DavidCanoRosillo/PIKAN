{
 "cells": [
  {
   "cell_type": "code",
   "execution_count": 5,
   "id": "029a047e",
   "metadata": {},
   "outputs": [
    {
     "name": "stderr",
     "output_type": "stream",
     "text": [
      "/Users/dcr/miniconda3/lib/python3.9/pty.py:85: RuntimeWarning: os.fork() was called. os.fork() is incompatible with multithreaded code, and JAX is multithreaded, so this will likely lead to a deadlock.\n",
      "  pid, fd = os.forkpty()\n"
     ]
    },
    {
     "name": "stdout",
     "output_type": "stream",
     "text": [
      "Requirement already satisfied: jaxkan in /Users/dcr/miniconda3/lib/python3.9/site-packages (0.1.7)\n",
      "Requirement already satisfied: tqdm in /Users/dcr/miniconda3/lib/python3.9/site-packages (4.64.1)\n"
     ]
    }
   ],
   "source": [
    "import sys\n",
    "\n",
    "if True:\n",
    "    # !pip install -U \"jax[cuda12]\"\n",
    "    !pip install jaxkan --no-deps\n",
    "    !pip install tqdm\n",
    "\n",
    "if True:\n",
    "    \"\"\"\n",
    "    import os\n",
    "    os.environ['XLA_FLAGS'] = (\n",
    "        '--xla_gpu_enable_triton_softmax_fusion=true '\n",
    "        '--xla_gpu_triton_gemm_any=True '\n",
    "        '--xla_gpu_enable_async_collectives=true '\n",
    "        '--xla_gpu_enable_latency_hiding_scheduler=true '\n",
    "        '--xla_gpu_enable_highest_priority_async_stream=true '\n",
    "    )\n",
    "    \"\"\"\n",
    "#    sys.path.append('/kaggle/input/utilspikan')\n",
    "\n",
    "from flax import linen as nn\n",
    "from flax.training import train_state\n",
    "from flax.linen.initializers import glorot_normal\n",
    "from typing import Callable\n",
    "\n",
    "import jax\n",
    "import jax.numpy as jnp\n",
    "import numpy as np\n",
    "import optax\n",
    "\n",
    "from jaxkan.models.KAN import KAN\n",
    "\n",
    "from tqdm import tqdm\n",
    "import matplotlib.pyplot as plt\n",
    "\n",
    "jax.devices()\n",
    "\n",
    "from Utils import *\n",
    "\n",
    "r = KeyHandler(0)"
   ]
  },
  {
   "cell_type": "code",
   "execution_count": 23,
   "id": "640d4322",
   "metadata": {},
   "outputs": [
    {
     "data": {
      "text/plain": [
       "(64, 64)"
      ]
     },
     "execution_count": 23,
     "metadata": {},
     "output_type": "execute_result"
    }
   ],
   "source": [
    "# Defining the MLP_fourier model initialization\n",
    "glorot = nn.initializers.glorot_normal()\n",
    "class FourierFeats(nn.Module):\n",
    "    num_output: int\n",
    "    \n",
    "    std = 10\n",
    "    mean = 0\n",
    "    \n",
    "    @nn.compact\n",
    "    def __call__(self, x):\n",
    "        B = self.param(\n",
    "            'B', lambda rng, shape: self.mean + jax.random.normal(rng, shape) * self.std,\n",
    "           (x.shape[-1],self.num_output//2)\n",
    "        )\n",
    "        bias = self.param(\n",
    "            'bias', lambda rng, shape: jax.random.normal(rng, shape)*0,\n",
    "            (self.num_output//2,)\n",
    "        )\n",
    "        \n",
    "        x = jnp.matmul(x,B)\n",
    "        x = jnp.concatenate([jnp.cos(2*jnp.pi*(x+bias)), jnp.sin(2*jnp.pi*(x+bias))], axis=-1)\n",
    "            \n",
    "        return x\n",
    "    \n",
    "layer = FourierFeats(num_output=64)\n",
    "collocs = jnp.ones((64,2))\n",
    "variables = layer.init(r.key(), collocs)\n",
    "variables\n",
    "layer.apply(variables, collocs).shape"
   ]
  },
  {
   "cell_type": "code",
   "execution_count": null,
   "id": "a884dfa4",
   "metadata": {},
   "outputs": [],
   "source": []
  }
 ],
 "metadata": {
  "kernelspec": {
   "display_name": "Python 3",
   "language": "python",
   "name": "python3"
  },
  "language_info": {
   "codemirror_mode": {
    "name": "ipython",
    "version": 3
   },
   "file_extension": ".py",
   "mimetype": "text/x-python",
   "name": "python",
   "nbconvert_exporter": "python",
   "pygments_lexer": "ipython3",
   "version": "3.9.12"
  }
 },
 "nbformat": 4,
 "nbformat_minor": 5
}
