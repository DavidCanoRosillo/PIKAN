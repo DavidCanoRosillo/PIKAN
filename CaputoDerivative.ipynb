{
 "cells": [
  {
   "cell_type": "code",
   "execution_count": 1,
   "id": "bd9e32c3-31b3-418c-8fac-f336a7e09afd",
   "metadata": {},
   "outputs": [],
   "source": [
    "import jax\n",
    "import jax.numpy as jnp\n",
    "from pikan.model_utils import GeneralizedMLP\n",
    "from flax import linen as nn\n",
    "\n",
    "devices = jax.devices()"
   ]
  },
  {
   "cell_type": "code",
   "execution_count": 2,
   "id": "c36ab0e4-70b3-4d10-b913-5a7e66c6d61f",
   "metadata": {},
   "outputs": [
    {
     "data": {
      "text/plain": [
       "Array([0.8603496], dtype=float32)"
      ]
     },
     "execution_count": 2,
     "metadata": {},
     "output_type": "execute_result"
    }
   ],
   "source": [
    "model = GeneralizedMLP(\n",
    "    kernel_init=nn.initializers.glorot_normal(),\n",
    "    num_input=2,\n",
    "    num_output=1,\n",
    "    use_fourier_feats=True,\n",
    "    layer_sizes=[128, 128],\n",
    ")\n",
    "\n",
    "key = jax.random.PRNGKey(0)\n",
    "collocs = jnp.ones((2))\n",
    "params = model.init(key, collocs)['params']\n",
    "model.apply({\"params\": params}, collocs)"
   ]
  },
  {
   "cell_type": "code",
   "execution_count": 3,
   "id": "65ddc20b-78bf-4042-9a82-e7f600791831",
   "metadata": {},
   "outputs": [
    {
     "data": {
      "text/plain": [
       "Array([-0.10571431], dtype=float32)"
      ]
     },
     "execution_count": 3,
     "metadata": {},
     "output_type": "execute_result"
    }
   ],
   "source": [
    "# Define the inference function\n",
    "def inference(params, model, x, t):\n",
    "    x = jnp.stack([x,t])\n",
    "    return model.apply({'params': params}, x)\n",
    "\n",
    "inference(params, model, 0, 1)"
   ]
  },
  {
   "cell_type": "code",
   "execution_count": 34,
   "id": "2f351fba-b150-4178-80d5-99abb847eb8e",
   "metadata": {},
   "outputs": [
    {
     "name": "stdout",
     "output_type": "stream",
     "text": [
      "Caputo Derivative: 1.4690284\n"
     ]
    }
   ],
   "source": [
    "import jax\n",
    "import jax.numpy as jnp\n",
    "from jax import grad, vmap\n",
    "from jax.scipy.special import gamma\n",
    "\n",
    "def inference(params, x, t):\n",
    "    output = model.apply({'params': params}, jnp.array([x, t]))\n",
    "    return output[0]\n",
    "\n",
    "def get_caputo_derivative(inference):\n",
    "    @jax.jit\n",
    "    def caputo_derivative(params, x, t, alpha, dt=1e-3, num_steps = 10000):\n",
    "        \"\"\"\n",
    "        Compute the Caputo derivative of order alpha for a function f(x, t) with respect to t.\n",
    "    \n",
    "        Parameters:\n",
    "        - f: A function f(x, t) that takes two arguments, x and t.\n",
    "        - x: The spatial variable.\n",
    "        - t: The time variable.\n",
    "        - alpha: The order of the Caputo derivative (0 < alpha < 1).\n",
    "        - dt: The time step for discretization.\n",
    "    \n",
    "        Returns:\n",
    "        - The Caputo derivative of f(x, t) at time t.\n",
    "        \"\"\"\n",
    "        # Define the integrand\n",
    "        def integrand(tau):\n",
    "            return grad(inference, 2)(params, x, tau) / (t - tau)**alpha\n",
    "    \n",
    "        # Fixed number of steps for static shape\n",
    "        tau_values = jnp.linspace(0, t - dt, num_steps)  # Exclude t\n",
    "        integrand_values = vmap(integrand)(tau_values)\n",
    "    \n",
    "        # Compute the integral using the trapezoidal rule\n",
    "        integral = jnp.trapezoid(integrand_values, tau_values)\n",
    "    \n",
    "        # Normalize by the gamma function\n",
    "        return integral / gamma(1 - alpha)\n",
    "    \n",
    "    return caputo_derivative\n",
    "    \n",
    "x = 1.0\n",
    "t = 1.0\n",
    "alpha = 0.5\n",
    "\n",
    "caputo_derivative_fn = get_caputo_derivative(inference)\n",
    "caputo_deriv = caputo_derivative_fn(params, x, t, alpha)\n",
    "\n",
    "print(\"Caputo Derivative:\", caputo_deriv)"
   ]
  },
  {
   "cell_type": "code",
   "execution_count": 44,
   "id": "47b3954f-c1fd-4ddf-b27e-967dd3ffeaec",
   "metadata": {},
   "outputs": [
    {
     "data": {
      "text/plain": [
       "(Array([-1.9368526 ,  1.5279231 ,  1.6757048 , -0.86210805,  1.9856383 ,\n",
       "         1.916959  , -0.23063819, -0.11893816, -3.0236068 ,  1.0715395 ,\n",
       "        -2.8631775 ,  2.1318824 , -0.08895866,  0.6813856 ,  1.2043933 ,\n",
       "         1.4326512 , -0.7403909 ,  2.353486  , -1.3957287 ,  0.734305  ,\n",
       "         1.6372179 , -2.115138  ,  1.8639367 ,  0.07038371, -0.36098865,\n",
       "         2.0357447 , -0.4261263 , -1.1245093 , -1.5903128 ,  0.70380837,\n",
       "         0.4670559 , -0.57454264, -1.7833678 ,  0.37029892, -2.7208304 ,\n",
       "         1.5304441 ,  2.3418148 ,  1.1240007 ,  0.91855377, -0.49901232,\n",
       "        -1.0983696 , -1.2291723 , -0.60905015, -1.3679131 , -1.5742713 ,\n",
       "         2.0972848 ,  0.584064  ,  0.84370744, -1.340998  ,  1.5299377 ,\n",
       "         1.2763233 , -0.38129574, -1.714182  ,  1.1769115 , -1.8024554 ,\n",
       "        -1.5488288 , -0.98314834,  1.4269894 , -2.7450976 ,  1.4711574 ,\n",
       "         1.4616169 , -0.38075423,  1.2749709 ,  0.12267178], dtype=float32),\n",
       " (64, 2))"
      ]
     },
     "execution_count": 44,
     "metadata": {},
     "output_type": "execute_result"
    }
   ],
   "source": [
    "from pikan.model_utils import sobol_sample\n",
    "import numpy as np\n",
    "\n",
    "collocs = sobol_sample(np.array([0, 0]), np.array([1, 1]), BS)\n",
    "\n",
    "jax.vmap(caputo_derivative_fn, (None, 0,0,None))(params, collocs[:, 0], collocs[:, 1], alpha), collocs.shape"
   ]
  },
  {
   "cell_type": "code",
   "execution_count": null,
   "id": "7fa24ce9-2b42-43c0-bba9-77fda69ffbc9",
   "metadata": {},
   "outputs": [],
   "source": []
  }
 ],
 "metadata": {
  "kernelspec": {
   "display_name": "Python 3 (ipykernel)",
   "language": "python",
   "name": "python3"
  },
  "language_info": {
   "codemirror_mode": {
    "name": "ipython",
    "version": 3
   },
   "file_extension": ".py",
   "mimetype": "text/x-python",
   "name": "python",
   "nbconvert_exporter": "python",
   "pygments_lexer": "ipython3",
   "version": "3.10.13"
  }
 },
 "nbformat": 4,
 "nbformat_minor": 5
}
