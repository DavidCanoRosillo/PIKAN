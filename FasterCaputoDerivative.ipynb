{
 "cells": [
  {
   "cell_type": "code",
   "execution_count": 1,
   "id": "af5d9aff-1bb6-440a-b8e4-e6e80bf3622a",
   "metadata": {},
   "outputs": [
    {
     "data": {
      "text/plain": [
       "[CpuDevice(id=0)]"
      ]
     },
     "execution_count": 1,
     "metadata": {},
     "output_type": "execute_result"
    }
   ],
   "source": [
    "import jax\n",
    "import jax.numpy as jnp\n",
    "from flax import linen as nn\n",
    "import numpy as np\n",
    "from pikan.model_utils import GeneralizedMLP, sobol_sample\n",
    "from jax import grad, vmap, jit\n",
    "from jax.scipy.special import gamma\n",
    "from functools import partial\n",
    "import optax\n",
    "\n",
    "import os\n",
    "import pickle\n",
    "from tqdm import tqdm\n",
    "import matplotlib.pyplot as plt\n",
    "\n",
    "jax.devices()"
   ]
  },
  {
   "cell_type": "code",
   "execution_count": 55,
   "id": "6e1d2fbe-6e7f-4103-a1f4-833e733a5ef2",
   "metadata": {},
   "outputs": [
    {
     "data": {
      "text/plain": [
       "Array([-0.10571431], dtype=float32)"
      ]
     },
     "execution_count": 55,
     "metadata": {},
     "output_type": "execute_result"
    }
   ],
   "source": [
    "model = GeneralizedMLP(\n",
    "    kernel_init=nn.initializers.glorot_normal(),\n",
    "    num_input=2,\n",
    "    num_output=1,\n",
    "    use_fourier_feats=True,\n",
    "    layer_sizes=[128, 128],\n",
    ")\n",
    "\n",
    "key = jax.random.PRNGKey(0)\n",
    "collocs = jnp.ones((2))\n",
    "params = model.init(key, collocs)['params']\n",
    "model.apply({\"params\": params}, collocs)\n",
    "\n",
    "def inference(params, model, x, t):\n",
    "    x = jnp.stack([x,t])\n",
    "    return model.apply({'params': params}, x)\n",
    "\n",
    "inference(params, model, 0, 1)"
   ]
  },
  {
   "cell_type": "code",
   "execution_count": 56,
   "id": "ab242551-48ab-4518-8213-402d49c96802",
   "metadata": {},
   "outputs": [
    {
     "name": "stdout",
     "output_type": "stream",
     "text": [
      "Caputo Derivative: -1.2204037\n"
     ]
    }
   ],
   "source": [
    "def inference(params, x, t):\n",
    "    output = model.apply({'params': params}, jnp.array([x, t]))\n",
    "    return output[0]\n",
    "\n",
    "def get_caputo_derivative(inference, alpha):\n",
    "    @jax.jit\n",
    "    def caputo_derivative(params, x, t, dt=1e-3, num_steps = 500):\n",
    "        \"\"\"\n",
    "        Compute the Caputo derivative of order alpha for a function f(x, t) with respect to t.\n",
    "    \n",
    "        Parameters:\n",
    "        - f: A function f(x, t) that takes two arguments, x and t.\n",
    "        - x: The spatial variable.\n",
    "        - t: The time variable.\n",
    "        - alpha: The order of the Caputo derivative (0 < alpha < 1).\n",
    "        - dt: The time step for discretization.\n",
    "    \n",
    "        Returns:\n",
    "        - The Caputo derivative of f(x, t) at time t.\n",
    "        \"\"\"\n",
    "        # Define the integrand\n",
    "        def integrand(tau):\n",
    "            return grad(inference, 2)(params, x, tau) / (t - tau)**alpha\n",
    "    \n",
    "        # Fixed number of steps for static shape\n",
    "        tau_values = jnp.linspace(0, t - dt, num_steps)  # Exclude t\n",
    "        integrand_values = vmap(integrand)(tau_values)\n",
    "    \n",
    "        # Compute the integral using the trapezoidal rule\n",
    "        integral = jnp.trapezoid(integrand_values, tau_values)\n",
    "    \n",
    "        # Normalize by the gamma function\n",
    "        return integral / gamma(1 - alpha)\n",
    "    \n",
    "    return caputo_derivative\n",
    "    \n",
    "x = .0\n",
    "t = 1.0\n",
    "alpha = 0.5\n",
    "\n",
    "caputo_derivative_fn = get_caputo_derivative(inference, alpha)\n",
    "caputo_deriv = caputo_derivative_fn(params, x, t)\n",
    "\n",
    "print(\"Caputo Derivative:\", caputo_deriv)"
   ]
  },
  {
   "cell_type": "code",
   "execution_count": 57,
   "id": "b0793806-b787-4b04-886c-36507850befc",
   "metadata": {},
   "outputs": [],
   "source": [
    "x_lins = jnp.linspace(-1, 1, 500)  # Spatial points\n",
    "t_lins = jnp.linspace(0, 1, 500)  # Temporal mesh\n",
    "alpha = 0.5  # Fractional order\n",
    "\n",
    "# Create a meshgrid\n",
    "x_mesh, t_mesh = jnp.meshgrid(x_lins, t_lins, indexing=\"ij\")\n",
    "\n",
    "def integrand(x, tau):\n",
    "    return grad(inference, 2)(params, x, tau) # / (t - tau)**alpha\n",
    "\n",
    "integrand_vals = jax.vmap(jax.vmap(integrand, (0,0)), (0,0))(x_mesh, t_mesh)\n",
    "\n",
    "def mask_t(t, t_mesh):\n",
    "    return 1/(t - t_mesh)**alpha\n",
    "\n",
    "def apply_mask(spatial_row, time_mask):\n",
    "    return jnp.sum(spatial_row * time_mask, axis=1)\n",
    "    \n",
    "res = jax.vmap(mask_t, (0, None))(t_lins, t_lins)\n",
    "res = jnp.nan_to_num(res, posinf=.0, neginf=.0)\n",
    "\n",
    "res = jax.vmap(apply_mask, (None, 0))(integrand_vals,res)\n",
    "res = jnp.moveaxis(res, (0,1), (1,0)) / gamma(1 - alpha)\n",
    "\n",
    "def mask_t(t, t_mesh):\n",
    "    return 1/(t - t_mesh)**alpha\n",
    "\n",
    "# Compute dt for non-uniform meshes\n",
    "dt = jnp.diff(t_lins, append=0.0)\n",
    "def apply_mask(spatial_row, time_mask):\n",
    "    return jnp.sum(spatial_row * time_mask * dt, axis=1)\n",
    "    \n",
    "res = jax.vmap(mask_t, (0, None))(t_lins, t_lins)\n",
    "res = jnp.nan_to_num(res, posinf=.0, neginf=.0)\n",
    "\n",
    "res = jax.vmap(apply_mask, (None, 0))(integrand_vals,res)\n",
    "res = jnp.moveaxis(res, (0,1), (1,0)) / gamma(1 - alpha)"
   ]
  },
  {
   "cell_type": "code",
   "execution_count": 58,
   "id": "01a702ec-40e2-428e-b63a-e137dbe04b38",
   "metadata": {},
   "outputs": [],
   "source": [
    "import jax.numpy as jnp\n",
    "from jax import grad, vmap\n",
    "from scipy.special import gamma\n",
    "\n",
    "def compute_caputo_derivative(x_lins, t_lins, alpha, inference, params=None):\n",
    "    \"\"\"\n",
    "    Compute the Caputo derivative at each point in the mesh.\n",
    "\n",
    "    Args:\n",
    "        x_lins (jnp.ndarray): Spatial mesh points (1D array).\n",
    "        t_lins (jnp.ndarray): Temporal mesh points (1D array).\n",
    "        alpha (float): Fractional order of the derivative.\n",
    "        inference (callable): Function to compute the integrand, of the form inference(params, x, tau).\n",
    "        params: Optional parameters for the inference function.\n",
    "\n",
    "    Returns:\n",
    "        jnp.ndarray: Caputo derivative at each point in the mesh, with shape (len(x_lins), len(t_lins)).\n",
    "    \"\"\"\n",
    "    # Create a meshgrid\n",
    "    x_mesh, t_mesh = jnp.meshgrid(x_lins, t_lins, indexing=\"ij\")\n",
    "\n",
    "    # Define the integrand function\n",
    "    def integrand(x, tau):\n",
    "        return grad(inference, 2)(params, x, tau)  # Gradient w.r.t. tau\n",
    "\n",
    "    # Vectorize the integrand over the mesh\n",
    "    integrand_vals = vmap(vmap(integrand, (0, 0)), (0, 0))(x_mesh, t_mesh)\n",
    "\n",
    "    # Compute dt for non-uniform meshes\n",
    "    dt = jnp.diff(t_lins, append=0.0)  # Append 0.0 to match the shape of t_lins\n",
    "\n",
    "    # Define the mask function\n",
    "    def mask_t(t, t_mesh):\n",
    "        return 1 / (t - t_mesh) ** alpha\n",
    "\n",
    "    # Apply the mask and sum with dt weights\n",
    "    def apply_mask(spatial_row, time_mask):\n",
    "        return jnp.sum(spatial_row * time_mask * dt, axis=1)  # Weight by dt\n",
    "\n",
    "    # Compute the result\n",
    "    res = vmap(mask_t, (0, None))(t_lins, t_lins)\n",
    "    res = jnp.nan_to_num(res, posinf=0.0, neginf=0.0)  # Handle singularities\n",
    "\n",
    "    res = vmap(apply_mask, (None, 0))(integrand_vals, res)\n",
    "    res = jnp.moveaxis(res, (0, 1), (1, 0)) / gamma(1 - alpha)\n",
    "\n",
    "    return res"
   ]
  },
  {
   "cell_type": "code",
   "execution_count": 59,
   "id": "4f12d791-d964-4dda-9038-5188c4f14f8e",
   "metadata": {},
   "outputs": [
    {
     "ename": "ApplyScopeInvalidVariablesTypeError",
     "evalue": "The first argument passed to an apply function should be a dictionary of collections. Each collection should be a dictionary with string keys. (https://flax.readthedocs.io/en/latest/api_reference/flax.errors.html#flax.errors.ApplyScopeInvalidVariablesTypeError)",
     "output_type": "error",
     "traceback": [
      "\u001b[0;31m---------------------------------------------------------------------------\u001b[0m",
      "\u001b[0;31mApplyScopeInvalidVariablesTypeError\u001b[0m       Traceback (most recent call last)",
      "Cell \u001b[0;32mIn[59], line 7\u001b[0m\n\u001b[1;32m      4\u001b[0m alpha \u001b[38;5;241m=\u001b[39m \u001b[38;5;241m0.5\u001b[39m  \u001b[38;5;66;03m# Fractional order\u001b[39;00m\n\u001b[1;32m      6\u001b[0m \u001b[38;5;66;03m# Compute the Caputo derivative\u001b[39;00m\n\u001b[0;32m----> 7\u001b[0m caputo_derivative \u001b[38;5;241m=\u001b[39m \u001b[43mcompute_caputo_derivative\u001b[49m\u001b[43m(\u001b[49m\u001b[43mx_lins\u001b[49m\u001b[43m,\u001b[49m\u001b[43m \u001b[49m\u001b[43mt_lins\u001b[49m\u001b[43m,\u001b[49m\u001b[43m \u001b[49m\u001b[43malpha\u001b[49m\u001b[43m,\u001b[49m\u001b[43m \u001b[49m\u001b[43minference\u001b[49m\u001b[43m)\u001b[49m\n\u001b[1;32m      9\u001b[0m \u001b[38;5;28mprint\u001b[39m(caputo_derivative\u001b[38;5;241m.\u001b[39mshape)  \u001b[38;5;66;03m# Expected shape: (len(x_lins), len(t_lins))\u001b[39;00m\n",
      "Cell \u001b[0;32mIn[58], line 27\u001b[0m, in \u001b[0;36mcompute_caputo_derivative\u001b[0;34m(x_lins, t_lins, alpha, inference, params)\u001b[0m\n\u001b[1;32m     24\u001b[0m     \u001b[38;5;28;01mreturn\u001b[39;00m grad(inference, \u001b[38;5;241m2\u001b[39m)(params, x, tau)  \u001b[38;5;66;03m# Gradient w.r.t. tau\u001b[39;00m\n\u001b[1;32m     26\u001b[0m \u001b[38;5;66;03m# Vectorize the integrand over the mesh\u001b[39;00m\n\u001b[0;32m---> 27\u001b[0m integrand_vals \u001b[38;5;241m=\u001b[39m \u001b[43mvmap\u001b[49m\u001b[43m(\u001b[49m\u001b[43mvmap\u001b[49m\u001b[43m(\u001b[49m\u001b[43mintegrand\u001b[49m\u001b[43m,\u001b[49m\u001b[43m \u001b[49m\u001b[43m(\u001b[49m\u001b[38;5;241;43m0\u001b[39;49m\u001b[43m,\u001b[49m\u001b[43m \u001b[49m\u001b[38;5;241;43m0\u001b[39;49m\u001b[43m)\u001b[49m\u001b[43m)\u001b[49m\u001b[43m,\u001b[49m\u001b[43m \u001b[49m\u001b[43m(\u001b[49m\u001b[38;5;241;43m0\u001b[39;49m\u001b[43m,\u001b[49m\u001b[43m \u001b[49m\u001b[38;5;241;43m0\u001b[39;49m\u001b[43m)\u001b[49m\u001b[43m)\u001b[49m\u001b[43m(\u001b[49m\u001b[43mx_mesh\u001b[49m\u001b[43m,\u001b[49m\u001b[43m \u001b[49m\u001b[43mt_mesh\u001b[49m\u001b[43m)\u001b[49m\n\u001b[1;32m     29\u001b[0m \u001b[38;5;66;03m# Compute dt for non-uniform meshes\u001b[39;00m\n\u001b[1;32m     30\u001b[0m dt \u001b[38;5;241m=\u001b[39m jnp\u001b[38;5;241m.\u001b[39mdiff(t_lins, append\u001b[38;5;241m=\u001b[39m\u001b[38;5;241m0.0\u001b[39m)  \u001b[38;5;66;03m# Append 0.0 to match the shape of t_lins\u001b[39;00m\n",
      "    \u001b[0;31m[... skipping hidden 12 frame]\u001b[0m\n",
      "Cell \u001b[0;32mIn[58], line 24\u001b[0m, in \u001b[0;36mcompute_caputo_derivative.<locals>.integrand\u001b[0;34m(x, tau)\u001b[0m\n\u001b[1;32m     23\u001b[0m \u001b[38;5;28;01mdef\u001b[39;00m \u001b[38;5;21mintegrand\u001b[39m(x, tau):\n\u001b[0;32m---> 24\u001b[0m     \u001b[38;5;28;01mreturn\u001b[39;00m \u001b[43mgrad\u001b[49m\u001b[43m(\u001b[49m\u001b[43minference\u001b[49m\u001b[43m,\u001b[49m\u001b[43m \u001b[49m\u001b[38;5;241;43m2\u001b[39;49m\u001b[43m)\u001b[49m\u001b[43m(\u001b[49m\u001b[43mparams\u001b[49m\u001b[43m,\u001b[49m\u001b[43m \u001b[49m\u001b[43mx\u001b[49m\u001b[43m,\u001b[49m\u001b[43m \u001b[49m\u001b[43mtau\u001b[49m\u001b[43m)\u001b[49m\n",
      "    \u001b[0;31m[... skipping hidden 17 frame]\u001b[0m\n",
      "Cell \u001b[0;32mIn[56], line 2\u001b[0m, in \u001b[0;36minference\u001b[0;34m(params, x, t)\u001b[0m\n\u001b[1;32m      1\u001b[0m \u001b[38;5;28;01mdef\u001b[39;00m \u001b[38;5;21minference\u001b[39m(params, x, t):\n\u001b[0;32m----> 2\u001b[0m     output \u001b[38;5;241m=\u001b[39m \u001b[43mmodel\u001b[49m\u001b[38;5;241;43m.\u001b[39;49m\u001b[43mapply\u001b[49m\u001b[43m(\u001b[49m\u001b[43m{\u001b[49m\u001b[38;5;124;43m'\u001b[39;49m\u001b[38;5;124;43mparams\u001b[39;49m\u001b[38;5;124;43m'\u001b[39;49m\u001b[43m:\u001b[49m\u001b[43m \u001b[49m\u001b[43mparams\u001b[49m\u001b[43m}\u001b[49m\u001b[43m,\u001b[49m\u001b[43m \u001b[49m\u001b[43mjnp\u001b[49m\u001b[38;5;241;43m.\u001b[39;49m\u001b[43marray\u001b[49m\u001b[43m(\u001b[49m\u001b[43m[\u001b[49m\u001b[43mx\u001b[49m\u001b[43m,\u001b[49m\u001b[43m \u001b[49m\u001b[43mt\u001b[49m\u001b[43m]\u001b[49m\u001b[43m)\u001b[49m\u001b[43m)\u001b[49m\n\u001b[1;32m      3\u001b[0m     \u001b[38;5;28;01mreturn\u001b[39;00m output[\u001b[38;5;241m0\u001b[39m]\n",
      "    \u001b[0;31m[... skipping hidden 3 frame]\u001b[0m\n",
      "File \u001b[0;32m/opt/homebrew/Caskroom/miniforge/base/lib/python3.10/site-packages/flax/core/scope.py:1026\u001b[0m, in \u001b[0;36mbind\u001b[0;34m(variables, rngs, mutable, flags)\u001b[0m\n\u001b[1;32m   1004\u001b[0m \u001b[38;5;250m\u001b[39m\u001b[38;5;124;03m\"\"\"Binds variables and rngs to a new ``Scope``.\u001b[39;00m\n\u001b[1;32m   1005\u001b[0m \n\u001b[1;32m   1006\u001b[0m \u001b[38;5;124;03mbind provides a ``Scope`` instance without transforming a function with\u001b[39;00m\n\u001b[0;32m   (...)\u001b[0m\n\u001b[1;32m   1023\u001b[0m \u001b[38;5;124;03m  A new scope with the variables and rngs bound to it.\u001b[39;00m\n\u001b[1;32m   1024\u001b[0m \u001b[38;5;124;03m\"\"\"\u001b[39;00m\n\u001b[1;32m   1025\u001b[0m \u001b[38;5;28;01mif\u001b[39;00m \u001b[38;5;129;01mnot\u001b[39;00m _is_valid_variables(variables):\n\u001b[0;32m-> 1026\u001b[0m   \u001b[38;5;28;01mraise\u001b[39;00m errors\u001b[38;5;241m.\u001b[39mApplyScopeInvalidVariablesTypeError()\n\u001b[1;32m   1027\u001b[0m \u001b[38;5;28;01mif\u001b[39;00m rngs \u001b[38;5;129;01mis\u001b[39;00m \u001b[38;5;129;01mnot\u001b[39;00m \u001b[38;5;28;01mNone\u001b[39;00m \u001b[38;5;129;01mand\u001b[39;00m \u001b[38;5;129;01mnot\u001b[39;00m _is_valid_rngs(rngs):\n\u001b[1;32m   1028\u001b[0m   \u001b[38;5;28;01mraise\u001b[39;00m errors\u001b[38;5;241m.\u001b[39mInvalidRngError(\n\u001b[1;32m   1029\u001b[0m     \u001b[38;5;124m'\u001b[39m\u001b[38;5;124mrngs should be a dictionary mapping strings to `jax.PRNGKey`.\u001b[39m\u001b[38;5;124m'\u001b[39m\n\u001b[1;32m   1030\u001b[0m   )\n",
      "\u001b[0;31mApplyScopeInvalidVariablesTypeError\u001b[0m: The first argument passed to an apply function should be a dictionary of collections. Each collection should be a dictionary with string keys. (https://flax.readthedocs.io/en/latest/api_reference/flax.errors.html#flax.errors.ApplyScopeInvalidVariablesTypeError)"
     ]
    }
   ],
   "source": [
    "# Define the temporal and spatial meshes\n",
    "x_lins = jnp.linspace(-1, 1, 500)  # Spatial points\n",
    "t_lins = jnp.linspace(0, 1, 500)\n",
    "alpha = 0.5  # Fractional order\n",
    "\n",
    "# Compute the Caputo derivative\n",
    "caputo_derivative = compute_caputo_derivative(x_lins, t_lins, alpha, inference)\n",
    "\n",
    "print(caputo_derivative.shape)  # Expected shape: (len(x_lins), len(t_lins))"
   ]
  },
  {
   "cell_type": "code",
   "execution_count": null,
   "id": "5bb336ee-973f-4fc1-860e-5e442d35499b",
   "metadata": {},
   "outputs": [],
   "source": [
    "# Plot the Caputo derivative\n",
    "plt.figure(figsize=(10, 6))\n",
    "plt.imshow(caputo_derivative, aspect='auto', extent=[t_lins[1], t_lins[-1], x_lins[-1], x_lins[0]], cmap='viridis')\n",
    "plt.colorbar(label='Caputo Derivative')\n",
    "plt.xlabel('Time (t)')\n",
    "plt.ylabel('Space (x)')\n",
    "plt.title('Caputo Derivative Over Space and Time')\n",
    "plt.show()"
   ]
  },
  {
   "cell_type": "code",
   "execution_count": null,
   "id": "26e47032-7981-49be-aa7a-d63e03f42ac5",
   "metadata": {},
   "outputs": [],
   "source": [
    "def generate_temporal_mesh(T, num_points, grading_exponent=3.0):\n",
    "    \"\"\"\n",
    "    Generate a temporal mesh with points clustered near t=0.\n",
    "    \n",
    "    Args:\n",
    "        T (float): Total time (max value in the mesh).\n",
    "        num_points (int): Number of temporal points.\n",
    "        grading_exponent (float): Controls point density near t=0 (higher = denser).\n",
    "    \n",
    "    Returns:\n",
    "        jnp.ndarray: Temporal mesh including t=0 (shape: (num_points,)).\n",
    "    \"\"\"\n",
    "    i = jnp.linspace(0, 1, num_points)\n",
    "    return T * (i ** grading_exponent)"
   ]
  },
  {
   "cell_type": "code",
   "execution_count": null,
   "id": "29bd48c3-556a-49b3-865c-0e87ed88a5b0",
   "metadata": {},
   "outputs": [],
   "source": [
    "x_lins = jnp.linspace(-1, 1, 300)  # Spatial points\n",
    "t_lins = generate_temporal_mesh(T=1.0, num_points=500, grading_exponent=1)\n",
    "alpha = 0.5  # Fractional order\n",
    "\n",
    "# Compute the Caputo derivative\n",
    "caputo_derivative = compute_caputo_derivative(x_lins, t_lins, alpha, inference)\n",
    "caputo_derivative = caputo_derivative[:, 1:] # discard t=0\n",
    "print(caputo_derivative.shape)  # Expected shape: (len(x_lins), len(t_lins))"
   ]
  },
  {
   "cell_type": "code",
   "execution_count": null,
   "id": "865fb657-2bd6-454f-a654-73fa33229d8b",
   "metadata": {},
   "outputs": [],
   "source": [
    "# Plot the Caputo derivative\n",
    "plt.figure(figsize=(10, 6))\n",
    "plt.imshow(caputo_derivative, aspect='auto', extent=[t_lins[1], t_lins[-1], x_lins[-1], x_lins[0]], cmap='viridis')\n",
    "plt.colorbar(label='Caputo Derivative')\n",
    "plt.xlabel('Time (t)')\n",
    "plt.ylabel('Space (x)')\n",
    "plt.title('Caputo Derivative Over Space and Time')\n",
    "plt.show()"
   ]
  },
  {
   "cell_type": "code",
   "execution_count": null,
   "id": "254ae3d8-0e41-4183-bda7-1162097ec9a7",
   "metadata": {},
   "outputs": [],
   "source": [
    "\"\"\"\n",
    "x_lins = jnp.linspace(-1, 1, 300)  # Spatial points\n",
    "t_lins = jnp.linspace(0, 1, 500)  # Temporal mesh\n",
    "alpha = 0.5  # Fractional order\n",
    "\n",
    "# Create a meshgrid\n",
    "x_mesh, t_mesh = jnp.meshgrid(x_lins, t_lins, indexing=\"ij\")\n",
    "\"\"\"\n",
    "\n",
    "caputo_derivative_fn = get_caputo_derivative(inference, alpha)\n",
    "caputo_deriv = caputo_derivative_fn(params, x, t)\n",
    "\n",
    "vals = jax.vmap(jax.vmap(caputo_derivative_fn, (None, 0,0)), (None, 0,0))(params, x_mesh, t_mesh)\n",
    "vals = vals[:, 1:]\n",
    "print(\"Caputo Derivative:\", vals.shape)"
   ]
  },
  {
   "cell_type": "code",
   "execution_count": 60,
   "id": "18038d04-86f2-44a6-8a8b-16d716248b7d",
   "metadata": {},
   "outputs": [
    {
     "data": {
      "text/plain": [
       "Array(0.00449165, dtype=float32)"
      ]
     },
     "execution_count": 60,
     "metadata": {},
     "output_type": "execute_result"
    }
   ],
   "source": [
    "jnp.abs(caputo_derivative - vals).mean() / jnp.abs(vals).mean()"
   ]
  },
  {
   "cell_type": "code",
   "execution_count": 61,
   "id": "5b6e887f-8beb-46bb-bcb9-e64a2d4e260f",
   "metadata": {},
   "outputs": [
    {
     "data": {
      "image/png": "[encoded data removed]",
      "text/plain": [
       "<Figure size 1000x600 with 2 Axes>"
      ]
     },
     "metadata": {},
     "output_type": "display_data"
    }
   ],
   "source": [
    "# Plot the Caputo derivative\n",
    "plt.figure(figsize=(10, 6))\n",
    "plt.imshow(vals, aspect='auto', extent=[t_lins[1], t_lins[-1], x_lins[-1], x_lins[0]], cmap='viridis')\n",
    "plt.colorbar(label='Caputo Derivative')\n",
    "plt.xlabel('Time (t)')\n",
    "plt.ylabel('Space (x)')\n",
    "plt.title('Caputo Derivative Over Space and Time')\n",
    "plt.show()"
   ]
  },
  {
   "cell_type": "code",
   "execution_count": null,
   "id": "acfd971b-e1f1-4c2b-a910-42195dba295a",
   "metadata": {},
   "outputs": [],
   "source": []
  }
 ],
 "metadata": {
  "kernelspec": {
   "display_name": "Python 3 (ipykernel)",
   "language": "python",
   "name": "python3"
  },
  "language_info": {
   "codemirror_mode": {
    "name": "ipython",
    "version": 3
   },
   "file_extension": ".py",
   "mimetype": "text/x-python",
   "name": "python",
   "nbconvert_exporter": "python",
   "pygments_lexer": "ipython3",
   "version": "3.10.13"
  }
 },
 "nbformat": 4,
 "nbformat_minor": 5
}
