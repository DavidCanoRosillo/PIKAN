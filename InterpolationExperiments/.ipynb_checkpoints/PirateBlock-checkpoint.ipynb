{
 "cells": [
  {
   "cell_type": "code",
   "execution_count": null,
   "id": "be189aff",
   "metadata": {},
   "outputs": [],
   "source": [
    "# model_utils.py\n",
    "\n",
    "import jax\n",
    "import jax.numpy as jnp\n",
    "import optax\n",
    "from flax import linen as nn\n",
    "from typing import Callable\n",
    "from dataclasses import field\n",
    "from typing import List\n",
    "from scipy.stats.qmc import Sobol\n",
    "import numpy as np\n",
    "import matplotlib.pyplot as plt\n",
    "import time\n",
    "from jaxkan.models.KAN import KAN\n",
    "\n",
    "class FourierFeats(nn.Module):\n",
    "    num_output: int\n",
    "    \n",
    "    std = 10\n",
    "    mean = 0\n",
    "    \n",
    "    @nn.compact\n",
    "    def __call__(self, x):\n",
    "        B = self.param(\n",
    "            'B', lambda rng, shape: self.mean + jax.random.normal(rng, shape) * self.std,\n",
    "           (x.shape[-1], self.num_output // 2)\n",
    "        )\n",
    "        bias = self.param(\n",
    "            'bias', lambda rng, shape: jax.random.normal(rng, shape) * 0,\n",
    "            (self.num_output // 2,)\n",
    "        )\n",
    "        \n",
    "        x = jnp.matmul(x, B)\n",
    "        x = jnp.concatenate([jnp.cos((x + bias)), jnp.sin((x + bias))], axis=-1)\n",
    "            \n",
    "        return x\n",
    "    \n",
    "class PirateBlock(nn.Module):\n",
    "    kernel_init: Callable\n",
    "    num_input: int\n",
    "    num_output: int\n",
    "    use_fourier_feats: bool = False  # Whether to use FourierFeats as the first layer\n",
    "    layer_sizes: List[int] = field(default_factory=list)\n",
    "    \n",
    "    @nn.compact\n",
    "    def __call__(self, x):\n",
    "        x = FourierFeats(self.layer_sizes[0])(x)\n",
    "        \n",
    "        \n",
    "        return y"
   ]
  }
 ],
 "metadata": {
  "kernelspec": {
   "display_name": "Python 3",
   "language": "python",
   "name": "python3"
  },
  "language_info": {
   "codemirror_mode": {
    "name": "ipython",
    "version": 3
   },
   "file_extension": ".py",
   "mimetype": "text/x-python",
   "name": "python",
   "nbconvert_exporter": "python",
   "pygments_lexer": "ipython3",
   "version": "3.9.12"
  }
 },
 "nbformat": 4,
 "nbformat_minor": 5
}
