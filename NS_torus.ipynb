{
 "cells": [
  {
   "cell_type": "code",
   "execution_count": 52,
   "id": "73fc27ea",
   "metadata": {},
   "outputs": [],
   "source": [
    "import jax\n",
    "import jax.numpy as jnp\n",
    "from typing import Any\n",
    "from flax import linen as nn\n",
    "from jax import random, grad, vmap\n",
    "from pikan.model_utils import gradf\n",
    "\n",
    "# create 2 output NN\n",
    "# compute vorticy w from the outputs derivatives"
   ]
  },
  {
   "cell_type": "code",
   "execution_count": 32,
   "id": "7c330b7e",
   "metadata": {},
   "outputs": [],
   "source": [
    "class VelocityNet(nn.Module):\n",
    "    features: Any\n",
    "\n",
    "    @nn.compact\n",
    "    def __call__(self, inputs):\n",
    "        x = inputs\n",
    "        for feature in self.features:\n",
    "            x = nn.Dense(features=feature)(x)  # Fully connected layer\n",
    "            x = nn.tanh(x)  # Activation function (tanh)\n",
    "        x = nn.Dense(features=2)(x)  # Final output layer with 2 outputs (u, v)\n",
    "        return x\n",
    "\n",
    "features = [32, 32, 32]    \n",
    "model = VelocityNet(features)\n",
    "\n",
    "dp = jnp.ones(3)\n",
    "params = model.init(random.PRNGKey(0), dp)"
   ]
  },
  {
   "cell_type": "code",
   "execution_count": 53,
   "id": "2fd159d1",
   "metadata": {},
   "outputs": [],
   "source": [
    "class NS_torus():\n",
    "    def __init__(self, model):\n",
    "        self.model = model\n",
    "        self.RE = 10\n",
    "        \n",
    "        self.r_net_fn = vmap(self.r_net, (None, 0,0,0))\n",
    "\n",
    "    def neural_net(self, params, x, y, t):\n",
    "        collocs = jnp.stack([x,y,t])\n",
    "        outputs = self.model.apply(params, collocs)\n",
    "\n",
    "        u = outputs[0]\n",
    "        v = outputs[1]\n",
    "        return u, v\n",
    "\n",
    "    def u_net(self, params, x, y, t):\n",
    "        u, _ = self.neural_net(params, x,y,t)\n",
    "        return u\n",
    "    \n",
    "    def v_net(self, params, x, y, t):\n",
    "        _, v = self.neural_net(params, x,y,t)\n",
    "        return v\n",
    "\n",
    "    def w_net(self, params, x, y, t):\n",
    "        v_x = grad(self.v_net, argnums=1)(params,x,y,t)\n",
    "        u_y = grad(self.u_net, argnums=2)(params,x,y,t)\n",
    "        \n",
    "        return v_x + u_y\n",
    "    \n",
    "    def r_net(self, params, x, y, t):\n",
    "        # w_t + U * grad w - 1/Re * Laplacian w\n",
    "        w_t = grad(self.w_net, argnums=3)(params,x,y,t)\n",
    "        w_x = grad(self.w_net, argnums=1)(params,x,y,t)\n",
    "        w_y = grad(self.w_net, argnums=2)(params,x,y,t)\n",
    "        \n",
    "        u, v = self.neural_net(params, x, y, t)\n",
    "        \n",
    "        w_xx = grad(grad(self.w_net, argnums=1), argnums=1)(params,x,y,t)\n",
    "        w_yy = grad(grad(self.w_net, argnums=2), argnums=2)(params,x,y,t)\n",
    "        eq1 = w_t + (u*w_x + v*w_y) - 1/self.RE * (w_xx+w_yy)\n",
    "        \n",
    "        # u_x + v_y = 0 eq2\n",
    "        u_x = grad(self.u_net, argnums=1)(params,x,y,t)\n",
    "        v_y = grad(self.v_net, argnums=2)(params,x,y,t)\n",
    "        eq2 = u_x + v_y\n",
    "        \n",
    "        return eq1, eq2"
   ]
  },
  {
   "cell_type": "code",
   "execution_count": 56,
   "id": "cdc86fc6",
   "metadata": {},
   "outputs": [
    {
     "data": {
      "text/plain": [
       "(Array([-0.20340623, -0.20340623, -0.20340623, -0.20340623, -0.20340623,\n",
       "        -0.20340623, -0.20340623, -0.20340623, -0.20340623, -0.20340623,\n",
       "        -0.20340623, -0.20340623, -0.20340623, -0.20340623, -0.20340623,\n",
       "        -0.20340623, -0.20340623, -0.20340623, -0.20340623, -0.20340623,\n",
       "        -0.20340623, -0.20340623, -0.20340623, -0.20340623, -0.20340623,\n",
       "        -0.20340623, -0.20340623, -0.20340623, -0.20340623, -0.20340623,\n",
       "        -0.20340623, -0.20340623], dtype=float32),\n",
       " Array([-0.17909324, -0.17909324, -0.17909324, -0.17909324, -0.17909324,\n",
       "        -0.17909324, -0.17909324, -0.17909324, -0.17909324, -0.17909324,\n",
       "        -0.17909324, -0.17909324, -0.17909324, -0.17909324, -0.17909324,\n",
       "        -0.17909324, -0.17909324, -0.17909324, -0.17909324, -0.17909324,\n",
       "        -0.17909324, -0.17909324, -0.17909324, -0.17909324, -0.17909324,\n",
       "        -0.17909324, -0.17909324, -0.17909324, -0.17909324, -0.17909324,\n",
       "        -0.17909324, -0.17909324], dtype=float32))"
      ]
     },
     "execution_count": 56,
     "metadata": {},
     "output_type": "execute_result"
    }
   ],
   "source": [
    "ns_torus = NS_torus(model)\n",
    "x = 1.\n",
    "y = 2.\n",
    "t = 3.\n",
    "\n",
    "ns_torus.u_net(params, x, y, t)\n",
    "ns_torus.v_net(params, x, y, t)\n",
    "ns_torus.w_net(params, x, y, t)\n",
    "\n",
    "BS = 32\n",
    "x_star = jnp.ones((BS)) \n",
    "y_star = jnp.ones((BS))\n",
    "t_star = jnp.ones((BS))\n",
    "ns_torus.r_net_fn(params, x_star, y_star, t_star)"
   ]
  },
  {
   "cell_type": "code",
   "execution_count": null,
   "id": "1eefb56e",
   "metadata": {},
   "outputs": [],
   "source": []
  }
 ],
 "metadata": {
  "kernelspec": {
   "display_name": "Python 3",
   "language": "python",
   "name": "python3"
  },
  "language_info": {
   "codemirror_mode": {
    "name": "ipython",
    "version": 3
   },
   "file_extension": ".py",
   "mimetype": "text/x-python",
   "name": "python",
   "nbconvert_exporter": "python",
   "pygments_lexer": "ipython3",
   "version": "3.9.12"
  }
 },
 "nbformat": 4,
 "nbformat_minor": 5
}
