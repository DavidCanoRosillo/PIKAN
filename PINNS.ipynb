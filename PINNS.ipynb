{
 "cells": [
  {
   "cell_type": "code",
   "execution_count": 1,
   "id": "4c3908fa-7101-4c98-869b-5d47e042334d",
   "metadata": {},
   "outputs": [
    {
     "data": {
      "text/plain": [
       "[CudaDevice(id=0)]"
      ]
     },
     "execution_count": 1,
     "metadata": {},
     "output_type": "execute_result"
    }
   ],
   "source": [
    "from pikan.model_utils import GeneralizedMLP, FourierKAN, PirateNet\n",
    "from pikan.model_utils import get_mse_loss\n",
    "from pikan.model_utils import KeyHandler, sobol_sample\n",
    "from pikan.utils import load_dict_from_file, save_dict_to_file\n",
    "\n",
    "from pikan.interpolated_funcs import circular_wave_interference\n",
    "\n",
    "import yaml\n",
    "import jax.numpy as jnp\n",
    "import numpy as np\n",
    "from flax import linen as nn\n",
    "import optax\n",
    "from functools import partial\n",
    "from tqdm import tqdm\n",
    "import pandas as pd\n",
    "\n",
    "import jax\n",
    "import pickle\n",
    "import os\n",
    "\n",
    "import matplotlib.pyplot as plt\n",
    "\n",
    "from pikan.pde_utils import get_pde_Helmholtz, get_pde_heat1, get_pde_burgers1\n",
    "from pikan.pde_utils import get_vanilla_loss, get_adaptive_loss, get_pde_train_step\n",
    "jax.devices()"
   ]
  },
  {
   "cell_type": "code",
   "execution_count": 2,
   "id": "2fbfa2f1-db39-4b0b-a5bf-8b7a58732735",
   "metadata": {},
   "outputs": [],
   "source": [
    "def sample_collocs(config):\n",
    "    collocs = jnp.array(sobol_sample(np.array([config[\"X_MIN\"],config[\"Y_MIN\"]]), \n",
    "                                     np.array([config[\"X_MAX\"],config[\"Y_MAX\"]]), config[\"BS\"]))\n",
    "    return collocs\n",
    "\n",
    "def get_model(config):\n",
    "    if config[\"MODEL\"] == \"MLP\":\n",
    "        return GeneralizedMLP(\n",
    "            kernel_init=nn.initializers.glorot_normal(),\n",
    "            num_input=config['N_INPUT'],\n",
    "            num_output=1,\n",
    "            use_fourier_feats=config['FourierFeatures'],\n",
    "            layer_sizes=config['layers']\n",
    "        )\n",
    "    if config[\"MODEL\"] == \"KAN\":\n",
    "        return FourierKAN(\n",
    "            kernel_init=nn.initializers.glorot_normal(),\n",
    "            num_input=config['N_INPUT'],\n",
    "            num_output=1,\n",
    "            use_fourier_feats=config['FourierFeatures'],\n",
    "            layer_sizes=config['layers']\n",
    "        )\n",
    "    if config[\"MODEL\"] == \"PIRATE\":\n",
    "        return PirateNet(\n",
    "            kernel_init=nn.initializers.glorot_normal(),\n",
    "            num_input=config['N_INPUT'],\n",
    "            num_output=1,\n",
    "            layer_sizes=config['layers'] # first is fourier\n",
    "        )\n",
    "\n",
    "\n",
    "def sum_params(data, verbose=False):\n",
    "    total = 0\n",
    "    if isinstance(data, type(jnp.array([]))):  # If the current node is a leaf array\n",
    "        return len(data.reshape(-1))\n",
    "    elif isinstance(data, dict):  # If the current node is a dictionary\n",
    "        for key, value in data.items():\n",
    "            if verbose:\n",
    "                print(f\"Processing key: {key}\")  # Print the current key\n",
    "            branch_total = sum_params(value)  # Compute the total for this subbranch\n",
    "            if verbose:\n",
    "                print(f\"Total parameters in subbranch '{key}': {branch_total}\")\n",
    "            total += branch_total\n",
    "    \n",
    "    return total"
   ]
  },
  {
   "cell_type": "code",
   "execution_count": 3,
   "id": "339a908e-45e0-4e1c-9de7-34eb44f21403",
   "metadata": {},
   "outputs": [
    {
     "name": "stdout",
     "output_type": "stream",
     "text": [
      "burger_1\n",
      "burger_2\n"
     ]
    },
    {
     "data": {
      "text/plain": [
       "{'BS': 32768,\n",
       " 'BS_BC': 2048,\n",
       " 'EPOCHS': 10000,\n",
       " 'EQUATION': 'burgers_eq1',\n",
       " 'FourierFeatures': True,\n",
       " 'MODEL': 'MLP',\n",
       " 'layers': [64, 64, 64],\n",
       " 'N_INPUT': 2,\n",
       " 'X_MIN': -1,\n",
       " 'X_MAX': 1,\n",
       " 'Y_MIN': 0,\n",
       " 'Y_MAX': 1}"
      ]
     },
     "execution_count": 3,
     "metadata": {},
     "output_type": "execute_result"
    }
   ],
   "source": [
    "# filename = \"SWEEP_HelmHoltz\"\n",
    "# filename = \"SWEEP_HeatEq1\"\n",
    "filename = \"SWEEP_Burger1\"\n",
    "\n",
    "with open(f\"yaml_configs/PDE_configs/{filename}.yaml\", 'r') as file:\n",
    "    config = yaml.safe_load(file)\n",
    "\n",
    "keygen = KeyHandler(0)\n",
    "config[\"experiments\"].keys()\n",
    "\n",
    "select = 1\n",
    "for idx, exp_key in enumerate(config[\"experiments\"].keys()):\n",
    "    print(exp_key)\n",
    "    if idx == select:\n",
    "        experiment = config[\"experiments\"][exp_key]\n",
    "\n",
    "experiment"
   ]
  },
  {
   "cell_type": "code",
   "execution_count": 4,
   "id": "371324d9-7973-430f-b7d6-1a87d3da252f",
   "metadata": {},
   "outputs": [
    {
     "data": {
      "image/png": "[encoded data removed]",
      "text/plain": [
       "<Figure size 400x400 with 1 Axes>"
      ]
     },
     "metadata": {},
     "output_type": "display_data"
    }
   ],
   "source": [
    "def plot_bc_collocs(bc_collocs):\n",
    "    \"\"\"Plots the boundary collocation points.\"\"\"\n",
    "    plt.figure(figsize=(4, 4))\n",
    "    for i, colloc in enumerate(bc_collocs, start=1):\n",
    "        plt.scatter(colloc[:, 0], colloc[:, 1], label=f'BC{i}', alpha=0.6)\n",
    "    plt.axhline(0, color='black', linewidth=0.5, linestyle='--')\n",
    "    plt.axvline(0, color='black', linewidth=0.5, linestyle='--')\n",
    "    plt.legend()\n",
    "    plt.axis('equal')\n",
    "    plt.show()\n",
    "\n",
    "def get_helmholtz_boundaries(experiment):\n",
    "    # only sample boundary once\n",
    "    BC1_colloc = jnp.array(sobol_sample(np.array([-1,-1]), np.array([-1,1]), experiment[\"BS_BC\"]))\n",
    "    BC1_data = jnp.zeros(experiment[\"BS_BC\"]).reshape(-1,1)\n",
    "    \n",
    "    BC2_colloc = jnp.array(sobol_sample(np.array([-1,-1]), np.array([1,-1]), experiment[\"BS_BC\"]))\n",
    "    BC2_data = jnp.zeros(experiment[\"BS_BC\"]).reshape(-1,1)\n",
    "    \n",
    "    BC3_colloc = jnp.array(sobol_sample(np.array([1,-1]), np.array([1,1]), experiment[\"BS_BC\"]))\n",
    "    BC3_data = jnp.zeros(experiment[\"BS_BC\"]).reshape(-1,1)\n",
    "    \n",
    "    BC4_colloc = jnp.array(sobol_sample(np.array([-1,1]), np.array([1,1]), experiment[\"BS_BC\"]))\n",
    "    BC4_data = jnp.zeros(experiment[\"BS_BC\"]).reshape(-1,1)\n",
    "    \n",
    "    bc_collocs = [BC1_colloc, BC2_colloc, BC3_colloc, BC4_colloc]\n",
    "    bc_data = [BC1_data, BC2_data, BC3_data, BC4_data]\n",
    "    return bc_collocs, bc_data\n",
    "\n",
    "def get_heat_boundaries(experiment):\n",
    "    # t=0\n",
    "    BC1_colloc = jnp.array(sobol_sample(np.array([0,0]), np.array([1,0]), experiment[\"BS_BC\"]))\n",
    "    BC1_data = jnp.sin(jnp.pi * BC1_colloc[:, 0]).reshape(-1,1)\n",
    "    \n",
    "    BC2_colloc = jnp.array(sobol_sample(np.array([0,0]), np.array([0,1]), experiment[\"BS_BC\"]))\n",
    "    BC2_data = jnp.zeros(experiment[\"BS_BC\"]).reshape(-1,1)\n",
    "    \n",
    "    BC3_colloc = jnp.array(sobol_sample(np.array([1,0]), np.array([1,1]), experiment[\"BS_BC\"]))\n",
    "    BC3_data = jnp.zeros(experiment[\"BS_BC\"]).reshape(-1,1)\n",
    "    \n",
    "    bc_collocs = [BC1_colloc, BC2_colloc, BC3_colloc]\n",
    "    bc_data = [BC1_data, BC2_data, BC3_data]\n",
    "    \n",
    "    return bc_collocs, bc_data\n",
    "\n",
    "\n",
    "def get_burgers_boundaries(experiment):\n",
    "    # t=0\n",
    "    BC1_colloc = jnp.array(sobol_sample(np.array([-1,0]), np.array([1,0]), experiment[\"BS_BC\"]))\n",
    "    BC1_data = -jnp.sin(jnp.pi * BC1_colloc[:, 0]).reshape(-1,1)\n",
    "    \n",
    "    BC2_colloc = jnp.array(sobol_sample(np.array([-1,0]), np.array([-1,1]), experiment[\"BS_BC\"]))\n",
    "    BC2_data = jnp.zeros(experiment[\"BS_BC\"]).reshape(-1,1)\n",
    "    \n",
    "    BC3_colloc = jnp.array(sobol_sample(np.array([1,0]), np.array([1,1]), experiment[\"BS_BC\"]))\n",
    "    BC3_data = jnp.zeros(experiment[\"BS_BC\"]).reshape(-1,1)\n",
    "    \n",
    "    bc_collocs = [BC1_colloc, BC2_colloc, BC3_colloc]\n",
    "    bc_data = [BC1_data, BC2_data, BC3_data]\n",
    "    \n",
    "    return bc_collocs, bc_data\n",
    "    \n",
    "if experiment[\"EQUATION\"] == \"helmholtz\":\n",
    "    bc_collocs, bc_data = get_helmholtz_boundaries(experiment)\n",
    "if experiment[\"EQUATION\"] == \"heat_eq1\":\n",
    "    bc_collocs, bc_data = get_heat_boundaries(experiment)\n",
    "if experiment[\"EQUATION\"] == \"burgers_eq1\":\n",
    "    bc_collocs, bc_data = get_burgers_boundaries(experiment)\n",
    "    \n",
    "plot_bc_collocs(bc_collocs)"
   ]
  },
  {
   "cell_type": "code",
   "execution_count": 5,
   "id": "8df7daa6-9f96-4c4d-a5f6-36bb82872705",
   "metadata": {},
   "outputs": [
    {
     "data": {
      "text/plain": [
       "Array(-0.9990747, dtype=float32)"
      ]
     },
     "execution_count": 5,
     "metadata": {},
     "output_type": "execute_result"
    }
   ],
   "source": [
    "bc_collocs[0][:, 0].min()"
   ]
  },
  {
   "cell_type": "code",
   "execution_count": 6,
   "id": "18aef32c-2874-488b-866b-54e4f24c40fe",
   "metadata": {},
   "outputs": [
    {
     "data": {
      "text/plain": [
       "4"
      ]
     },
     "execution_count": 6,
     "metadata": {},
     "output_type": "execute_result"
    }
   ],
   "source": [
    "collocs = sample_collocs(experiment)\n",
    "\n",
    "N_collocs = collocs.shape[0] + len(bc_collocs) * bc_collocs[0].shape[0]\n",
    "loc_w = [jnp.ones((collocs.shape[0], 1))] + [jnp.ones((bc_collocs[0].shape[0], 1)) for i in range(len(bc_collocs))]\n",
    "len(loc_w) # attention weights for collocs and bc are independent"
   ]
  },
  {
   "cell_type": "code",
   "execution_count": 7,
   "id": "c6dd509f-9821-4541-a9f5-7cec11f52de2",
   "metadata": {},
   "outputs": [
    {
     "data": {
      "text/plain": [
       "(GeneralizedMLP(\n",
       "     # attributes\n",
       "     kernel_init = init\n",
       "     num_input = 2\n",
       "     num_output = 1\n",
       "     use_fourier_feats = True\n",
       "     layer_sizes = [64, 64, 64]\n",
       " ),\n",
       " 8481)"
      ]
     },
     "execution_count": 7,
     "metadata": {},
     "output_type": "execute_result"
    }
   ],
   "source": [
    "model = get_model(experiment)\n",
    "\n",
    "variables = model.init(keygen.key(), collocs)\n",
    "\n",
    "# Define a cosine decay learning rate schedule\n",
    "schedule_fn = optax.cosine_decay_schedule(\n",
    "    init_value=1e-2,       # Initial learning rate\n",
    "    decay_steps=experiment[\"EPOCHS\"],  # Total number of decay steps\n",
    "    alpha=1e-3             # Final learning rate multiplier\n",
    ")\n",
    "\n",
    "optimizer = optax.adamw(learning_rate=schedule_fn, weight_decay=1e-4)\n",
    "opt_state = optimizer.init(variables['params'])\n",
    "\n",
    "if experiment[\"EQUATION\"] == \"helmholtz\":\n",
    "    pde_loss = get_pde_Helmholtz(model, modeltype=experiment[\"MODEL\"])\n",
    "if experiment[\"EQUATION\"] == \"heat_eq1\":\n",
    "    pde_loss = get_pde_heat1(model, modeltype=experiment[\"MODEL\"])\n",
    "if experiment[\"EQUATION\"] == \"burgers_eq1\":\n",
    "    pde_loss = get_pde_burgers1(model, modeltype=experiment[\"MODEL\"])\n",
    "    \n",
    "loss_fn = get_adaptive_loss(model, pde_loss, modeltype=experiment[\"MODEL\"])\n",
    "train_step = get_pde_train_step(model, optimizer, loss_fn)\n",
    "\n",
    "model, sum_params(variables[\"params\"])"
   ]
  },
  {
   "cell_type": "code",
   "execution_count": null,
   "id": "e1f3fbd1-0937-41c8-a488-81cb66952e10",
   "metadata": {},
   "outputs": [
    {
     "name": "stderr",
     "output_type": "stream",
     "text": [
      "Loss  0.00055697:  26%|████▉              | 2574/10000 [00:13<00:26, 278.39it/s]"
     ]
    }
   ],
   "source": [
    "%%time\n",
    "grid_adaption = {}\n",
    "\n",
    "# train always on same colloc points\n",
    "collocs = sample_collocs(experiment)\n",
    "\n",
    "if experiment[\"MODEL\"] != \"KAN\":\n",
    "        variables[\"state\"] = []\n",
    "    \n",
    "losses = []\n",
    "for i in (pbar:= tqdm(range(experiment[\"EPOCHS\"]))):\n",
    "    params, state = variables['params'], variables['state']\n",
    "    params, opt_state, loss, loc_w = train_step(params, collocs, bc_collocs, \n",
    "                                                 bc_data, opt_state, state, loc_w)    \n",
    "    variables = {'params': params, 'state':state}\n",
    "    \n",
    "    losses.append(loss)\n",
    "    \n",
    "    if i % 50 == 0: # dont waste a lot of time printing\n",
    "        pbar.set_description(f\"Loss {loss: .8f}\")\n",
    "        # 21.68it/s KAN"
   ]
  },
  {
   "cell_type": "code",
   "execution_count": null,
   "id": "57f4c4e1-6d51-45b3-8f56-5dc6f9c5636c",
   "metadata": {},
   "outputs": [],
   "source": [
    "from scipy.ndimage import zoom\n",
    "\n",
    "def load_analytical_burgers(Nx, Ny):\n",
    "    data = np.load('Burgers.npz')\n",
    "    usol = data['usol']\n",
    "\n",
    "    print(\"Original shape:\", usol.shape)\n",
    "    # scaling_factors = (Nx / usol.shape[0], Ny / usol.shape[1])\n",
    "    # usol = zoom(usol, scaling_factors)\n",
    "    return usol\n",
    "    \n",
    "def plot_heatmap(arr, title, experiment):\n",
    "    # Plot heatmap\n",
    "    #plt.figure(figsize=(8, 6))\n",
    "    plt.imshow(arr, extent=(experiment[\"X_MIN\"], experiment[\"X_MAX\"], \n",
    "                            experiment[\"Y_MIN\"], experiment[\"Y_MAX\"]), origin=\"lower\", aspect=\"auto\", cmap=\"plasma\")\n",
    "    plt.colorbar(label=\"Loss\")\n",
    "    plt.xlabel(\"y\")\n",
    "    plt.ylabel(\"x\")\n",
    "    plt.title(title)\n",
    "    plt.show()\n",
    "\n",
    "def u(vec_x):\n",
    "    y = model.apply(variables, vec_x)\n",
    "    return y\n",
    "\n",
    "def exact_u(vec_x, experiment, Nx, Ny):\n",
    "    if experiment[\"EQUATION\"] == \"helmholtz\":\n",
    "        y = jnp.sin(jnp.pi*vec_x[:, 0])*jnp.sin(4*jnp.pi*vec_x[:, 1])\n",
    "    if experiment[\"EQUATION\"] == \"heat_eq1\":\n",
    "        y = jnp.sin(jnp.pi*vec_x[:, 0])*jnp.exp(-vec_x[:, 1])\n",
    "    if experiment[\"EQUATION\"] == \"burgers_eq1\":\n",
    "        y = load_analytical_burgers(Nx, Ny)\n",
    "    return y\n",
    "\n",
    "def l2_error(results, true):\n",
    "    err = jnp.sum((results - true)**2) / jnp.sum(true**2)\n",
    "    err = jnp.sqrt(err)\n",
    "    return err\n",
    "\n",
    "if experiment[\"MODEL\"] != \"KAN\":\n",
    "    variables = {'params': variables[\"params\"]}\n",
    "\n",
    "Nx = 256 # NxN grid\n",
    "Ny = 100\n",
    "x_grid = jnp.linspace(experiment[\"X_MIN\"], experiment[\"X_MAX\"], Nx)\n",
    "y_grid = jnp.linspace(experiment[\"Y_MIN\"], experiment[\"Y_MAX\"], Ny)\n",
    "\n",
    "# Create a meshgrid of x and t values\n",
    "x_mesh, y_mesh = jnp.meshgrid(x_grid, y_grid, indexing=\"ij\")\n",
    "x_flat = x_mesh.flatten()\n",
    "y_flat = y_mesh.flatten()\n",
    "coords = jnp.stack((x_flat, y_flat), axis=-1)\n",
    "\n",
    "results = u(coords).reshape(Nx, Ny)\n",
    "loss = pde_loss(params, coords, state).reshape(Nx, Ny)\n",
    "exact = exact_u(coords, experiment, Nx, Ny).reshape(Nx,Ny)\n",
    "\n",
    "plot_heatmap(results,\"PINN solution\", experiment)\n",
    "plot_heatmap(exact,\"Exact solution\", experiment)"
   ]
  },
  {
   "cell_type": "code",
   "execution_count": null,
   "id": "e17f5162-8350-4049-9fd3-d2907af8fb44",
   "metadata": {},
   "outputs": [],
   "source": [
    "plot_heatmap(jnp.abs(results - exact),\"ABS err heatmap\", experiment)\n",
    "plot_heatmap(jnp.abs(loss),\"Loss heatmap\", experiment)\n",
    "\n",
    "l2_err = l2_error(results, exact)\n",
    "print(f\"L2 error {l2_err*100:.4f}%\")\n",
    "l2_err"
   ]
  },
  {
   "cell_type": "code",
   "execution_count": null,
   "id": "a984757f-858c-42ef-af58-e8f47e2712e5",
   "metadata": {},
   "outputs": [],
   "source": [
    "import matplotlib.pyplot as plt\n",
    "import numpy as np\n",
    "import jax.numpy as jnp\n",
    "from matplotlib import cm\n",
    "import os\n",
    "\n",
    "def compare_3d(coords, y_hat, y):\n",
    "    # Compute the absolute error\n",
    "    abs_error = jnp.abs(y - y_hat).reshape(-1, 1)\n",
    "\n",
    "    # Create a figure and axis grid for the 3 subplots\n",
    "    fig = plt.figure(figsize=(18, 6))\n",
    "\n",
    "    # Plotting the approximated function (y_hat) on the left using the plasma colormap\n",
    "    ax1 = fig.add_subplot(1, 3, 1, projection='3d')\n",
    "    ax1.plot_trisurf(coords[:, 0], coords[:, 1], y_hat.flatten(), cmap=cm.plasma)\n",
    "    ax1.set_title('Approximated Function (y_hat)')\n",
    "    ax1.set_xlabel('X1')\n",
    "    ax1.set_ylabel('X2')\n",
    "    ax1.set_zlabel('y_hat')\n",
    "\n",
    "    # Plotting the true function (y) in the middle\n",
    "    ax2 = fig.add_subplot(1, 3, 2, projection='3d')\n",
    "    ax2.plot_trisurf(coords[:, 0], coords[:, 1], y.flatten(), cmap='viridis')\n",
    "    ax2.set_title('True Function (y)')\n",
    "    ax2.set_xlabel('X1')\n",
    "    ax2.set_ylabel('X2')\n",
    "    ax2.set_zlabel('y')\n",
    "\n",
    "    # Plotting the absolute error on the right\n",
    "    ax3 = fig.add_subplot(1, 3, 3, projection='3d')\n",
    "    ax3.plot_trisurf(coords[:, 0], coords[:, 1], abs_error.flatten(), cmap='inferno')\n",
    "    ax3.set_title('Absolute Error')\n",
    "    ax3.set_xlabel('X1')\n",
    "    ax3.set_ylabel('X2')\n",
    "    ax3.set_zlabel('Error')\n",
    "\n",
    "compare_3d(coords, results, exact)"
   ]
  },
  {
   "cell_type": "code",
   "execution_count": null,
   "id": "c1df8686-4ecc-4863-b1e7-38d4fa0d7ad2",
   "metadata": {},
   "outputs": [],
   "source": []
  }
 ],
 "metadata": {
  "kernelspec": {
   "display_name": "Python 3 (ipykernel)",
   "language": "python",
   "name": "python3"
  },
  "language_info": {
   "codemirror_mode": {
    "name": "ipython",
    "version": 3
   },
   "file_extension": ".py",
   "mimetype": "text/x-python",
   "name": "python",
   "nbconvert_exporter": "python",
   "pygments_lexer": "ipython3",
   "version": "3.11.5"
  }
 },
 "nbformat": 4,
 "nbformat_minor": 5
}
